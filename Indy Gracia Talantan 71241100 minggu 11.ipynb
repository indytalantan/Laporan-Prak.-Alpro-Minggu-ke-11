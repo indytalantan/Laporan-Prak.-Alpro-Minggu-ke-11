{
 "cells": [
  {
   "cell_type": "code",
   "execution_count": 1,
   "id": "559c806d-aef0-4693-8a84-c9079c6155d7",
   "metadata": {},
   "outputs": [
    {
     "name": "stdout",
     "output_type": "stream",
     "text": [
      "[8, 5, 5]\n"
     ]
    }
   ],
   "source": [
    "#LATIHAN 11.2\n",
    "nilai = [8,3,5,4,4,5,3,4,4]\n",
    "nilai.sort(reverse=True)\n",
    "terbaik_3 = nilai[:3]\n",
    "print(terbaik_3)\n"
   ]
  },
  {
   "cell_type": "code",
   "execution_count": 29,
   "id": "4b50193d-5dd8-4146-a44e-96da9ec134e4",
   "metadata": {},
   "outputs": [
    {
     "name": "stdin",
     "output_type": "stream",
     "text": [
      "Masukkan bilangan (atau 'done' untuk selesai):  1\n",
      "Masukkan bilangan (atau 'done' untuk selesai):  2\n",
      "Masukkan bilangan (atau 'done' untuk selesai):  3\n",
      "Masukkan bilangan (atau 'done' untuk selesai):  4\n",
      "Masukkan bilangan (atau 'done' untuk selesai):  5\n",
      "Masukkan bilangan (atau 'done' untuk selesai):  done\n"
     ]
    },
    {
     "name": "stdout",
     "output_type": "stream",
     "text": [
      "Rata-rata bilangan yang dimasukkan: 3.00\n"
     ]
    }
   ],
   "source": [
    "total = 0\n",
    "count = 0\n",
    "\n",
    "while True:\n",
    "    user = input(\"Masukkan bilangan (atau 'done' untuk selesai): \")\n",
    "    \n",
    "    if user.lower() == 'done':\n",
    "        break\n",
    "        \n",
    "    try:\n",
    "        nomornya = float(user)\n",
    "        total += nomornya\n",
    "        count += 1\n",
    "    except ValueError:\n",
    "        print(\"Input tidak valid. Masukkan bilangan atau 'done'.\")\n",
    "        \n",
    "if count > 0:\n",
    "    nilai = total / count\n",
    "    print(f\"Rata-rata bilangan yang dimasukkan: {nilai:.2f}\")\n",
    "else:\n",
    "    print(\"Tidak ada bilangan yang dimasukkan.\")"
   ]
  },
  {
   "cell_type": "code",
   "execution_count": null,
   "id": "9d7bdbc4-b5ed-4602-a9c2-9d00d292a166",
   "metadata": {},
   "outputs": [],
   "source": [
    "#LATIHAN 11.4\n",
    "file = open('ile.txt', 'r')\n",
    "kata = []\n",
    "\n",
    "for line in file:\n",
    "    for word in line.split():\n",
    "        if word not in kata:\n",
    "            kata.append(word)\n",
    "\n",
    "print(kata)"
   ]
  }
 ],
 "metadata": {
  "kernelspec": {
   "display_name": "Python [conda env:base] *",
   "language": "python",
   "name": "conda-base-py"
  },
  "language_info": {
   "codemirror_mode": {
    "name": "ipython",
    "version": 3
   },
   "file_extension": ".py",
   "mimetype": "text/x-python",
   "name": "python",
   "nbconvert_exporter": "python",
   "pygments_lexer": "ipython3",
   "version": "3.12.7"
  }
 },
 "nbformat": 4,
 "nbformat_minor": 5
}
